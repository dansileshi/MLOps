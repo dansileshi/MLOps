{
  "cells": [
    {
      "cell_type": "markdown",
      "source": [
        "![Impressions](https://PixelServer20190423114238.azurewebsites.net/api/impressions/MachineLearningNotebooks/how-to-use-azureml/deployment/deploy-multi-model/multi-model-register-and-deploy.png)"
      ],
      "metadata": {}
    },
    {
      "cell_type": "markdown",
      "source": [
        "# Diabetes Progression Prediction Project\n",
        "\n",
        "## Overview\n",
        "This project focuses on predicting the progression of diabetes using the `Diabetes` dataset provided by `sklearn.datasets`. We aim to leverage machine learning techniques to understand how various features influence diabetes progression and deploy the model in a production environment using Azure ML. Additionally, we will conduct a responsible ML analysis to ensure our model is fair, interpretable, and compliant with ethical AI standards.\n",
        "\n",
        "## Objectives\n",
        "- **Data Exploration**: Investigate the dataset to understand the distribution and relationships of the data.\n",
        "- **Data Preprocessing**: Prepare the data for modeling by cleaning and normalizing.\n",
        "- **Model Development**: Construct and train machine learning models to predict the progression of diabetes.\n",
        "- **Model Evaluation**: Assess the accuracy and efficacy of the models using appropriate metrics.\n",
        "- **Model Deployment**: Deploy the trained model using Azure ML to make it available for real-time predictions in a production environment.\n",
        "\n",
        "## Tools and Libraries\n",
        "The project utilizes Python along with several libraries to achieve these goals:\n",
        "- `numpy` and `pandas` for data manipulation.\n",
        "- `matplotlib` and `seaborn` for data visualization.\n",
        "- `scikit-learn` for building and evaluating machine learning models.\n",
        "- `azureml-core` for model deployment on Azure ML.\n",
        "- `raiwidgets` and `fairlearn` to conduct fairness analysis and enhance interpretability.\n",
        "\n",
        "By the end of this notebook, you should have a robust understanding of how to apply machine learning techniques from data preprocessing to deployment and how to integrate principles of responsible AI into your workflow. Let's start by loading the dataset and exploring its initial properties.\n"
      ],
      "metadata": {
        "nteract": {
          "transient": {
            "deleting": false
          }
        }
      }
    },
    {
      "cell_type": "markdown",
      "source": [
        "# Setting Up Azure ML Environment\n",
        "\n",
        "We need to first set up an Azure ML workspace and the necessary resources like storage, compute instances, and related configurations. Azure ML workspace is a foundational piece in managing the lifecycle of your machine learning models, from training to deployment.\n",
        "\n",
        "\n",
        "- Create and configure an Azure ML Workspace.\n",
        "- Set up storage accounts to manage datasets and model artifacts.\n",
        "- Create compute resources to train and deploy models.\n"
      ],
      "metadata": {
        "nteract": {
          "transient": {
            "deleting": false
          }
        }
      }
    },
    {
      "cell_type": "markdown",
      "source": [
        " Azure ML Workspace Creation and Configuration\n",
        "\n",
        "An Azure ML Workspace is an integrated environment that allows you to manage, develop, train, and deploy machine learning models. It includes support for various tools and frameworks and provides a centralized place to manage all your ML assets.\n"
      ],
      "metadata": {
        "nteract": {
          "transient": {
            "deleting": false
          }
        }
      }
    },
    {
      "cell_type": "code",
      "source": [
        "from azureml.core import Workspace\n",
        "\n",
        "# Attempt to load the workspace from the config file if it exists\n",
        "# Otherwise, create one using the details provided (you need to replace placeholders with your actual details)\n",
        "try:\n",
        "    ws = Workspace.from_config()\n",
        "except:\n",
        "    ws = Workspace.create(name='YourWorkspaceName',\n",
        "                          subscription_id='your-subscription-id',\n",
        "                          resource_group='your-resource-group',\n",
        "                          create_resource_group=True,\n",
        "                          location='your-location'  # e.g., 'eastus'\n",
        "                          )\n",
        "    ws.write_config()\n",
        "print(ws.name, ws.resource_group, ws.location, ws.subscription_id, sep='\\n')\n"
      ],
      "outputs": [
        {
          "output_type": "stream",
          "name": "stdout",
          "text": "mlops_demo1\nmlops_1\nuksouth\nfcd3ed4f-3ce9-448e-8084-9f119bc03559\n"
        }
      ],
      "execution_count": 2,
      "metadata": {
        "jupyter": {
          "source_hidden": false,
          "outputs_hidden": false
        },
        "nteract": {
          "transient": {
            "deleting": false
          }
        },
        "gather": {
          "logged": 1715337343792
        }
      }
    },
    {
      "cell_type": "code",
      "source": [
        "from azureml.core import Workspace\n",
        "\n",
        "ws = Workspace.from_config()\n",
        "print(ws.name, ws.resource_group, ws.location, ws.subscription_id, sep='\\n')"
      ],
      "outputs": [
        {
          "output_type": "stream",
          "name": "stdout",
          "text": "mlops_demo1\nmlops_1\nuksouth\nfcd3ed4f-3ce9-448e-8084-9f119bc03559\n"
        }
      ],
      "execution_count": 1,
      "metadata": {
        "tags": [
          "create workspace"
        ],
        "gather": {
          "logged": 1715336460555
        }
      }
    },
    {
      "cell_type": "code",
      "source": [
        "import joblib\n",
        "import sklearn\n",
        "\n",
        "from sklearn.datasets import load_diabetes\n",
        "from sklearn.linear_model import Ridge\n",
        "import joblib"
      ],
      "outputs": [],
      "execution_count": 7,
      "metadata": {
        "gather": {
          "logged": 1715337872983
        }
      }
    },
    {
      "cell_type": "markdown",
      "source": [
        "## Loading and Preparing the Diabetes Dataset\n",
        "\n",
        "The dataset used in this project is sourced from the `scikit-learn` library, which includes a number of datasets useful for testing machine learning algorithms. We are using the `Diabetes` dataset, which contains diagnostic measurements of several hundred patients diagnosed with diabetes.\n"
      ],
      "metadata": {
        "nteract": {
          "transient": {
            "deleting": false
          }
        }
      }
    },
    {
      "cell_type": "code",
      "source": [
        "from sklearn.datasets import load_diabetes\n",
        "import pandas as pd\n",
        "\n",
        "# Load the diabetes dataset\n",
        "diabetes_data = load_diabetes()\n",
        "X = diabetes_data.data  # the features\n",
        "y = diabetes_data.target  # the target variable, quantitative measure of disease progression\n",
        "\n",
        "# Create a DataFrame to store the features and target variable\n",
        "df = pd.DataFrame(X, columns=diabetes_data.feature_names)\n",
        "df['Progression'] = y\n"
      ],
      "outputs": [],
      "execution_count": 4,
      "metadata": {
        "jupyter": {
          "source_hidden": false,
          "outputs_hidden": false
        },
        "nteract": {
          "transient": {
            "deleting": false
          }
        },
        "gather": {
          "logged": 1715337436351
        }
      }
    },
    {
      "cell_type": "code",
      "source": [
        "# Display the first few rows of the DataFrame to check everything is loaded correctly\n",
        "df.sample(5)\n"
      ],
      "outputs": [
        {
          "output_type": "execute_result",
          "execution_count": 5,
          "data": {
            "text/plain": "          age       sex       bmi        bp        s1        s2        s3  \\\n53  -0.009147 -0.044642 -0.015906  0.070073  0.012191  0.022172  0.015505   \n1   -0.001882 -0.044642 -0.051474 -0.026328 -0.008449 -0.019163  0.074412   \n260  0.041708 -0.044642 -0.008362 -0.057314  0.008063 -0.031376  0.151726   \n336 -0.020045 -0.044642  0.085408 -0.036656  0.091996  0.089499 -0.061809   \n70  -0.001882 -0.044642 -0.069797 -0.012556 -0.000193 -0.009143  0.070730   \n\n           s4        s5        s6  Progression  \n53  -0.002592 -0.033249  0.048628        104.0  \n1   -0.039493 -0.068330 -0.092204         75.0  \n260 -0.076395 -0.080237 -0.017646         39.0  \n336  0.145012  0.080948  0.052770        306.0  \n70  -0.039493 -0.062913  0.040343         48.0  ",
            "text/html": "<div>\n<style scoped>\n    .dataframe tbody tr th:only-of-type {\n        vertical-align: middle;\n    }\n\n    .dataframe tbody tr th {\n        vertical-align: top;\n    }\n\n    .dataframe thead th {\n        text-align: right;\n    }\n</style>\n<table border=\"1\" class=\"dataframe\">\n  <thead>\n    <tr style=\"text-align: right;\">\n      <th></th>\n      <th>age</th>\n      <th>sex</th>\n      <th>bmi</th>\n      <th>bp</th>\n      <th>s1</th>\n      <th>s2</th>\n      <th>s3</th>\n      <th>s4</th>\n      <th>s5</th>\n      <th>s6</th>\n      <th>Progression</th>\n    </tr>\n  </thead>\n  <tbody>\n    <tr>\n      <th>53</th>\n      <td>-0.009147</td>\n      <td>-0.044642</td>\n      <td>-0.015906</td>\n      <td>0.070073</td>\n      <td>0.012191</td>\n      <td>0.022172</td>\n      <td>0.015505</td>\n      <td>-0.002592</td>\n      <td>-0.033249</td>\n      <td>0.048628</td>\n      <td>104.0</td>\n    </tr>\n    <tr>\n      <th>1</th>\n      <td>-0.001882</td>\n      <td>-0.044642</td>\n      <td>-0.051474</td>\n      <td>-0.026328</td>\n      <td>-0.008449</td>\n      <td>-0.019163</td>\n      <td>0.074412</td>\n      <td>-0.039493</td>\n      <td>-0.068330</td>\n      <td>-0.092204</td>\n      <td>75.0</td>\n    </tr>\n    <tr>\n      <th>260</th>\n      <td>0.041708</td>\n      <td>-0.044642</td>\n      <td>-0.008362</td>\n      <td>-0.057314</td>\n      <td>0.008063</td>\n      <td>-0.031376</td>\n      <td>0.151726</td>\n      <td>-0.076395</td>\n      <td>-0.080237</td>\n      <td>-0.017646</td>\n      <td>39.0</td>\n    </tr>\n    <tr>\n      <th>336</th>\n      <td>-0.020045</td>\n      <td>-0.044642</td>\n      <td>0.085408</td>\n      <td>-0.036656</td>\n      <td>0.091996</td>\n      <td>0.089499</td>\n      <td>-0.061809</td>\n      <td>0.145012</td>\n      <td>0.080948</td>\n      <td>0.052770</td>\n      <td>306.0</td>\n    </tr>\n    <tr>\n      <th>70</th>\n      <td>-0.001882</td>\n      <td>-0.044642</td>\n      <td>-0.069797</td>\n      <td>-0.012556</td>\n      <td>-0.000193</td>\n      <td>-0.009143</td>\n      <td>0.070730</td>\n      <td>-0.039493</td>\n      <td>-0.062913</td>\n      <td>0.040343</td>\n      <td>48.0</td>\n    </tr>\n  </tbody>\n</table>\n</div>"
          },
          "metadata": {}
        }
      ],
      "execution_count": 5,
      "metadata": {
        "jupyter": {
          "source_hidden": false,
          "outputs_hidden": false
        },
        "nteract": {
          "transient": {
            "deleting": false
          }
        },
        "gather": {
          "logged": 1715337460139
        }
      }
    },
    {
      "cell_type": "code",
      "source": [
        "y"
      ],
      "outputs": [
        {
          "output_type": "execute_result",
          "execution_count": 6,
          "data": {
            "text/plain": "array([151.,  75., 141., 206., 135.,  97., 138.,  63., 110., 310., 101.,\n        69., 179., 185., 118., 171., 166., 144.,  97., 168.,  68.,  49.,\n        68., 245., 184., 202., 137.,  85., 131., 283., 129.,  59., 341.,\n        87.,  65., 102., 265., 276., 252.,  90., 100.,  55.,  61.,  92.,\n       259.,  53., 190., 142.,  75., 142., 155., 225.,  59., 104., 182.,\n       128.,  52.,  37., 170., 170.,  61., 144.,  52., 128.,  71., 163.,\n       150.,  97., 160., 178.,  48., 270., 202., 111.,  85.,  42., 170.,\n       200., 252., 113., 143.,  51.,  52., 210.,  65., 141.,  55., 134.,\n        42., 111.,  98., 164.,  48.,  96.,  90., 162., 150., 279.,  92.,\n        83., 128., 102., 302., 198.,  95.,  53., 134., 144., 232.,  81.,\n       104.,  59., 246., 297., 258., 229., 275., 281., 179., 200., 200.,\n       173., 180.,  84., 121., 161.,  99., 109., 115., 268., 274., 158.,\n       107.,  83., 103., 272.,  85., 280., 336., 281., 118., 317., 235.,\n        60., 174., 259., 178., 128.,  96., 126., 288.,  88., 292.,  71.,\n       197., 186.,  25.,  84.,  96., 195.,  53., 217., 172., 131., 214.,\n        59.,  70., 220., 268., 152.,  47.,  74., 295., 101., 151., 127.,\n       237., 225.,  81., 151., 107.,  64., 138., 185., 265., 101., 137.,\n       143., 141.,  79., 292., 178.,  91., 116.,  86., 122.,  72., 129.,\n       142.,  90., 158.,  39., 196., 222., 277.,  99., 196., 202., 155.,\n        77., 191.,  70.,  73.,  49.,  65., 263., 248., 296., 214., 185.,\n        78.,  93., 252., 150.,  77., 208.,  77., 108., 160.,  53., 220.,\n       154., 259.,  90., 246., 124.,  67.,  72., 257., 262., 275., 177.,\n        71.,  47., 187., 125.,  78.,  51., 258., 215., 303., 243.,  91.,\n       150., 310., 153., 346.,  63.,  89.,  50.,  39., 103., 308., 116.,\n       145.,  74.,  45., 115., 264.,  87., 202., 127., 182., 241.,  66.,\n        94., 283.,  64., 102., 200., 265.,  94., 230., 181., 156., 233.,\n        60., 219.,  80.,  68., 332., 248.,  84., 200.,  55.,  85.,  89.,\n        31., 129.,  83., 275.,  65., 198., 236., 253., 124.,  44., 172.,\n       114., 142., 109., 180., 144., 163., 147.,  97., 220., 190., 109.,\n       191., 122., 230., 242., 248., 249., 192., 131., 237.,  78., 135.,\n       244., 199., 270., 164.,  72.,  96., 306.,  91., 214.,  95., 216.,\n       263., 178., 113., 200., 139., 139.,  88., 148.,  88., 243.,  71.,\n        77., 109., 272.,  60.,  54., 221.,  90., 311., 281., 182., 321.,\n        58., 262., 206., 233., 242., 123., 167.,  63., 197.,  71., 168.,\n       140., 217., 121., 235., 245.,  40.,  52., 104., 132.,  88.,  69.,\n       219.,  72., 201., 110.,  51., 277.,  63., 118.,  69., 273., 258.,\n        43., 198., 242., 232., 175.,  93., 168., 275., 293., 281.,  72.,\n       140., 189., 181., 209., 136., 261., 113., 131., 174., 257.,  55.,\n        84.,  42., 146., 212., 233.,  91., 111., 152., 120.,  67., 310.,\n        94., 183.,  66., 173.,  72.,  49.,  64.,  48., 178., 104., 132.,\n       220.,  57.])"
          },
          "metadata": {}
        }
      ],
      "execution_count": 6,
      "metadata": {
        "jupyter": {
          "source_hidden": false,
          "outputs_hidden": false
        },
        "nteract": {
          "transient": {
            "deleting": false
          }
        },
        "gather": {
          "logged": 1715337771858
        }
      }
    },
    {
      "cell_type": "markdown",
      "source": [
        "## Training the First Model: Ridge Regression\n",
        "\n",
        "Ridge regression is a type of linear regression that includes a regularization term. The regularization term (L2 penalty) discourages large coefficients and helps to prevent overfitting, which is particularly useful in scenarios where the dataset is not very large or the number of features is close to or exceeds the number of observations.\n"
      ],
      "metadata": {
        "nteract": {
          "transient": {
            "deleting": false
          }
        }
      }
    },
    {
      "cell_type": "code",
      "source": [
        "# Assuming 'X' and 'y' are already defined as your features and target variable respectively\n",
        "first_model = Ridge().fit(X, y)\n",
        "\n",
        "# Save the model to a file for later use\n",
        "model_filename = \"model_ridge.pkl\"\n",
        "joblib.dump(first_model, model_filename)\n"
      ],
      "outputs": [
        {
          "output_type": "execute_result",
          "execution_count": 8,
          "data": {
            "text/plain": "['model_ridge.pkl']"
          },
          "metadata": {}
        }
      ],
      "execution_count": 8,
      "metadata": {
        "jupyter": {
          "source_hidden": false,
          "outputs_hidden": false
        },
        "nteract": {
          "transient": {
            "deleting": false
          }
        },
        "gather": {
          "logged": 1715337888431
        }
      }
    },
    {
      "cell_type": "markdown",
      "source": [
        "## Registering the Model in Azure ML Workspace\n",
        "\n",
        "Registering a model in the Azure Machine Learning workspace is the next step towards managing, versioning, and deploying machine learning models effectively. By registering the model, you can track its versions, metadata, and dependencies, and deploy it across various Azure services seamlessly.\n"
      ],
      "metadata": {
        "nteract": {
          "transient": {
            "deleting": false
          }
        }
      }
    },
    {
      "cell_type": "code",
      "source": [
        "from azureml.core.model import Model\n",
        "\n",
        "# Assuming 'ws' is already defined as your Azure ML Workspace\n",
        "# Register the model stored in 'model_ridge.pkl'\n",
        "model = Model.register(model_path=\"model_ridge.pkl\",\n",
        "                       model_name=\"model_ridge\",\n",
        "                       workspace=ws)\n",
        "\n",
        "# Output the model id to verify it has been registered successfully\n",
        "print(\"Model registered successfully:\")\n",
        "print(\"Model ID:\", model.id)\n",
        "print(\"Model Name:\", model.name)\n"
      ],
      "outputs": [
        {
          "output_type": "stream",
          "name": "stdout",
          "text": "Registering model model_ridge\nModel registered successfully:\nModel ID: model_ridge:1\nModel Name: model_ridge\n"
        }
      ],
      "execution_count": 9,
      "metadata": {
        "jupyter": {
          "source_hidden": false,
          "outputs_hidden": false
        },
        "nteract": {
          "transient": {
            "deleting": false
          }
        },
        "gather": {
          "logged": 1715338190868
        }
      }
    },
    {
      "cell_type": "markdown",
      "source": [
        "## Creating the Scoring Script\n",
        "\n",
        "To deploy our Ridge regression model on Azure ML, we need to create a scoring script. This script will be used by the Azure ML service to load our model and to predict outcomes based on input data sent to the deployed model.\n",
        "\n",
        "### Script Contents\n",
        "\n",
        "The script `score.py` contains two primary functions:\n",
        "\n",
        "1. **`init()`**:\n",
        "   - This function is called when the deployment service starts. It is used for initialization tasks, such as loading the model from the Azure ML workspace into a global object. This ensures the model is loaded once when the service starts, rather than on each prediction request, improving performance.\n",
        "\n",
        "2. **`run(raw_data)`**:\n",
        "   - This function is called for every new prediction request. It receives `raw_data` as a JSON string, which it processes to make predictions using the pre-loaded model. The function then returns the predictions.\n",
        "\n",
        "### Error Handling\n",
        "\n",
        "The script also includes error handling in the `run` function to manage and return errors that might occur during data processing or prediction.\n",
        "\n",
        "\n"
      ],
      "metadata": {
        "nteract": {
          "transient": {
            "deleting": false
          }
        }
      }
    },
    {
      "cell_type": "code",
      "source": [
        "%%writefile score.py\n",
        "import joblib\n",
        "import json\n",
        "import numpy as np\n",
        "from azureml.core.model import Model\n",
        "\n",
        "def init():\n",
        "    # Load the model from the registered Azure ML model\n",
        "    global model\n",
        "    model_path = Model.get_model_path(model_name='model_ridge')\n",
        "    model = joblib.load(model_path)\n",
        "\n",
        "def run(raw_data):\n",
        "    try:\n",
        "        # Parse the JSON data input\n",
        "        data = json.loads(raw_data)['data']\n",
        "        # Convert data to numpy array for prediction\n",
        "        data = np.array(data)\n",
        "        # Generate predictions using the loaded model\n",
        "        result_1 = model.predict(data)\n",
        "        # Convert numpy array back to list for JSON serialization\n",
        "        return {\"prediction1\": result_1.tolist()}\n",
        "    except Exception as e:\n",
        "        # Return the error message in case of an exception\n",
        "        result = str(e)\n",
        "        return result"
      ],
      "outputs": [
        {
          "output_type": "stream",
          "name": "stdout",
          "text": "Overwriting score.py\n"
        }
      ],
      "execution_count": 11,
      "metadata": {}
    },
    {
      "cell_type": "markdown",
      "source": [
        "## Setting Up the Deployment Environment\n",
        "\n",
        "For deploying our model to Azure ML, we have to create a consistent runtime environment that closely replicates the one used during model development and testing. This ensures that our model behaves as expected when deployed.\n",
        "\n",
        "### Creating and Configuring the Environment\n",
        "\n",
        "We use the Azure ML `Environment` class to create a managed environment, where we can specify the exact Python and library versions required for our model to run.\n"
      ],
      "metadata": {
        "nteract": {
          "transient": {
            "deleting": false
          }
        }
      }
    },
    {
      "cell_type": "code",
      "source": [
        "from azureml.core import Environment\n",
        "\n",
        "# Create an Azure ML environment\n",
        "env = Environment(\"deploytocloudenv\")\n",
        "\n",
        "# Add necessary libraries using pip\n",
        "env.python.conda_dependencies.add_pip_package(\"joblib\")  # Used for loading the model\n",
        "env.python.conda_dependencies.add_pip_package(\"numpy==1.23\")  # Specify exact numpy version\n",
        "env.python.conda_dependencies.add_pip_package(\"scikit-learn=={}\".format(sklearn.__version__))  # Use the same scikit-learn version used in development\n",
        "\n",
        "# Register the environment (if not already registered)\n",
        "#env.register(workspace=ws)\n"
      ],
      "outputs": [],
      "execution_count": 13,
      "metadata": {
        "jupyter": {
          "source_hidden": false,
          "outputs_hidden": false
        },
        "nteract": {
          "transient": {
            "deleting": false
          }
        },
        "gather": {
          "logged": 1715338952375
        }
      }
    },
    {
      "cell_type": "markdown",
      "source": [
        "\n",
        "### Creating the Inference Configuration\n",
        "\n",
        "`InferenceConfig` is a component that specifies the scoring script and the environment under which the model will operate. This setup ensures that the model executes correctly in the cloud.\n"
      ],
      "metadata": {
        "nteract": {
          "transient": {
            "deleting": false
          }
        }
      }
    },
    {
      "cell_type": "code",
      "source": [
        "from azureml.core.model import InferenceConfig\n",
        "\n",
        "# Set up the inference configuration with the scoring script and environment\n",
        "inference_config = InferenceConfig(entry_script=\"score.py\", environment=env)\n"
      ],
      "outputs": [],
      "execution_count": 14,
      "metadata": {
        "jupyter": {
          "source_hidden": false,
          "outputs_hidden": false
        },
        "nteract": {
          "transient": {
            "deleting": false
          }
        },
        "gather": {
          "logged": 1715339237417
        }
      }
    },
    {
      "cell_type": "markdown",
      "source": [
        "## Deploying the Model to Azure Container Instances (ACI)\n",
        "\n",
        "After setting up the `InferenceConfig`, the next step is to deploy the model as a web service using Azure Container Instances (ACI). ACI provides a lightweight, isolated environment for running containerized applications, making it suitable for smaller workloads and testing environments.\n",
        "\n",
        "### Deployment Configuration\n",
        "\n",
        "Deployment on ACI requires specifying the amount of CPU and memory that the service needs, which is defined using `AciWebservice.deploy_configuration`.\n"
      ],
      "metadata": {
        "nteract": {
          "transient": {
            "deleting": false
          }
        }
      }
    },
    {
      "cell_type": "code",
      "source": [
        "from azureml.core.webservice import AciWebservice\n",
        "\n",
        "aci_service_name = \"aciservice-modelridge\"\n",
        "\n",
        "deployment_config = AciWebservice.deploy_configuration(cpu_cores=1, memory_gb=1)\n",
        "\n",
        "service = Model.deploy(ws, aci_service_name, [model], inference_config, deployment_config, overwrite=True)\n",
        "service.wait_for_deployment(True)\n",
        "\n",
        "print(service.state)"
      ],
      "outputs": [
        {
          "output_type": "stream",
          "name": "stderr",
          "text": "/tmp/ipykernel_5085/2843957594.py:7: FutureWarning: azureml.core.model:\nTo leverage new model deployment capabilities, AzureML recommends using CLI/SDK v2 to deploy models as online endpoint, \nplease refer to respective documentations \nhttps://docs.microsoft.com/azure/machine-learning/how-to-deploy-managed-online-endpoints /\nhttps://docs.microsoft.com/azure/machine-learning/how-to-attach-kubernetes-anywhere \nFor more information on migration, see https://aka.ms/acimoemigration \nTo disable CLI/SDK v1 deprecation warning set AZUREML_LOG_DEPRECATION_WARNING_ENABLED to 'False'\n  service = Model.deploy(ws, aci_service_name, [model], inference_config, deployment_config, overwrite=True)\n"
        },
        {
          "output_type": "stream",
          "name": "stdout",
          "text": "Tips: You can try get_logs(): https://aka.ms/debugimage#dockerlog or local deployment: https://aka.ms/debugimage#debug-locally to debug if deployment takes longer than 10 minutes.\nRunning\n2024-05-10 11:13:36+00:00 Creating Container Registry if not exists.\n2024-05-10 11:13:37+00:00 Registering the environment.\n2024-05-10 11:13:38+00:00 Building image..\n2024-05-10 11:24:21+00:00 Generating deployment configuration.\n2024-05-10 11:24:22+00:00 Submitting deployment to compute..\n2024-05-10 11:24:28+00:00 Checking the status of deployment aciservice-modelridge..\n2024-05-10 11:25:42+00:00 Checking the status of inference endpoint aciservice-modelridge.\nSucceeded\nACI service creation operation finished, operation \"Succeeded\"\nHealthy\n"
        }
      ],
      "execution_count": 16,
      "metadata": {
        "jupyter": {
          "source_hidden": false,
          "outputs_hidden": false
        },
        "nteract": {
          "transient": {
            "deleting": false
          }
        },
        "gather": {
          "logged": 1715340344233
        }
      }
    },
    {
      "cell_type": "markdown",
      "source": [
        "## Testing the Deployed Model\n",
        "\n",
        "Once your model is deployed as a web service in Azure Container Instances (ACI), the next step is to test it to ensure it is functioning as expected. We will create a sample request, send it to the deployed model, and receive predictions.\n",
        "\n",
        "### Creating a Test Sample\n",
        "\n",
        "First, we need to prepare a test sample that mimics the data format the model expects. This typically includes converting the data to a list, serializing it into JSON, and formatting it according to the API's expected schema.\n"
      ],
      "metadata": {
        "nteract": {
          "transient": {
            "deleting": false
          }
        }
      }
    },
    {
      "cell_type": "code",
      "source": [
        "import json\n",
        "test_sample = json.dumps({'data': X[0:2].tolist()})\n",
        "predictions = service.run(test_sample)\n",
        "predictions"
      ],
      "outputs": [
        {
          "output_type": "execute_result",
          "execution_count": 20,
          "data": {
            "text/plain": "{'prediction1': [182.67357342863968, 90.99902728640282]}"
          },
          "metadata": {}
        }
      ],
      "execution_count": 20,
      "metadata": {
        "jupyter": {
          "source_hidden": false,
          "outputs_hidden": false
        },
        "nteract": {
          "transient": {
            "deleting": false
          }
        },
        "gather": {
          "logged": 1715340721464
        }
      }
    }
  ],
  "metadata": {
    "authors": [
      {
        "name": "jenns"
      }
    ],
    "kernelspec": {
      "name": "python38-azureml",
      "language": "python",
      "display_name": "Python 3.8 - AzureML"
    },
    "language_info": {
      "name": "python",
      "version": "3.8.5",
      "mimetype": "text/x-python",
      "codemirror_mode": {
        "name": "ipython",
        "version": 3
      },
      "pygments_lexer": "ipython3",
      "nbconvert_exporter": "python",
      "file_extension": ".py"
    },
    "kernel_info": {
      "name": "python38-azureml"
    },
    "microsoft": {
      "host": {
        "AzureML": {
          "notebookHasBeenCompleted": true
        }
      },
      "ms_spell_check": {
        "ms_spell_check_language": "en"
      }
    },
    "nteract": {
      "version": "nteract-front-end@1.0.0"
    }
  },
  "nbformat": 4,
  "nbformat_minor": 2
}